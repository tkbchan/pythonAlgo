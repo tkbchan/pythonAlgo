{
  "nbformat": 4,
  "nbformat_minor": 0,
  "metadata": {
    "colab": {
      "name": "jarowinklerSimilarity.ipynb",
      "provenance": [],
      "authorship_tag": "ABX9TyO7SIKStkUxQ102a54lymy1"
    },
    "kernelspec": {
      "name": "python3",
      "display_name": "Python 3"
    },
    "language_info": {
      "name": "python"
    }
  },
  "cells": [
    {
      "cell_type": "code",
      "metadata": {
        "colab": {
          "base_uri": "https://localhost:8080/"
        },
        "id": "-H_mX_kucn4l",
        "outputId": "a60072d8-7698-40c3-c744-04dc91e48456"
      },
      "source": [
        "pip install strsim"
      ],
      "execution_count": null,
      "outputs": [
        {
          "output_type": "stream",
          "text": [
            "Collecting strsim\n",
            "  Downloading strsim-0.0.3-py3-none-any.whl (42 kB)\n",
            "\u001b[?25l\r\u001b[K     |███████▊                        | 10 kB 21.3 MB/s eta 0:00:01\r\u001b[K     |███████████████▌                | 20 kB 24.8 MB/s eta 0:00:01\r\u001b[K     |███████████████████████▏        | 30 kB 27.9 MB/s eta 0:00:01\r\u001b[K     |███████████████████████████████ | 40 kB 31.1 MB/s eta 0:00:01\r\u001b[K     |████████████████████████████████| 42 kB 1.1 MB/s \n",
            "\u001b[?25hInstalling collected packages: strsim\n",
            "Successfully installed strsim-0.0.3\n"
          ],
          "name": "stdout"
        }
      ]
    },
    {
      "cell_type": "code",
      "metadata": {
        "id": "j3jEmUHeZ6Ls"
      },
      "source": [
        "import pandas as pd\n",
        "\n",
        "from similarity.jarowinkler import JaroWinkler"
      ],
      "execution_count": null,
      "outputs": []
    },
    {
      "cell_type": "code",
      "metadata": {
        "id": "eCRqkNofaR3P"
      },
      "source": [
        "df1 = pd.DataFrame({\n",
        "    \"name\": [\"a\", \"b\"]\n",
        "})\n",
        "\n",
        "df2 = pd.DataFrame({\n",
        "    \"name\": [\"a\", \"b\", \"c\", \"d\", \"e\"]\n",
        "})\n",
        "\n",
        "df = pd.MultiIndex.from_product(\n",
        "    [df1[\"name\"], df2[\"name\"]], names=[\"col1\", \"col2\"]\n",
        ").to_frame(index=False)"
      ],
      "execution_count": null,
      "outputs": []
    },
    {
      "cell_type": "code",
      "metadata": {
        "colab": {
          "base_uri": "https://localhost:8080/"
        },
        "id": "-gMiJuXQaa5j",
        "outputId": "97898b2e-d582-4bc7-97c2-d307f3c2970e"
      },
      "source": [
        "# ito medyo okay naman siya to compare two dataframes.\n",
        "jarowinkler = JaroWinkler()\n",
        "df[\"jarowinkler_sim\"] = [jarowinkler.similarity(i,j) for i,j in zip(df[\"col1\"],df[\"col2\"])]\n",
        "print(df)"
      ],
      "execution_count": null,
      "outputs": [
        {
          "output_type": "stream",
          "text": [
            "  col1 col2  jarowinkler_sim  p0  p1\n",
            "0    a    a              1.0  {}  {}\n",
            "1    a    b              0.0  {}  {}\n",
            "2    a    c              0.0  {}  {}\n",
            "3    a    d              0.0  {}  {}\n",
            "4    a    e              0.0  {}  {}\n",
            "5    b    a              0.0  {}  {}\n",
            "6    b    b              1.0  {}  {}\n",
            "7    b    c              0.0  {}  {}\n",
            "8    b    d              0.0  {}  {}\n",
            "9    b    e              0.0  {}  {}\n"
          ],
          "name": "stdout"
        }
      ]
    }
  ]
}