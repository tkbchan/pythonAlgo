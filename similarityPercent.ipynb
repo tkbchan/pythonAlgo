{
  "nbformat": 4,
  "nbformat_minor": 0,
  "metadata": {
    "colab": {
      "name": "similarityPercent.ipynb",
      "provenance": [],
      "authorship_tag": "ABX9TyOPq0t+uI3comWq6Nn1OkYI"
    },
    "kernelspec": {
      "name": "python3",
      "display_name": "Python 3"
    },
    "language_info": {
      "name": "python"
    }
  },
  "cells": [
    {
      "cell_type": "code",
      "metadata": {
        "id": "m5xjkzScVFGj"
      },
      "source": [
        "import pandas as pd"
      ],
      "execution_count": 6,
      "outputs": []
    },
    {
      "cell_type": "code",
      "metadata": {
        "colab": {
          "base_uri": "https://localhost:8080/"
        },
        "id": "6JYEtPwoeHc8",
        "outputId": "f341c583-4b13-4067-c499-fbe12293e1b5"
      },
      "source": [
        "df = pd.DataFrame(\n",
        "    data=[[3.8, 3.8], [4.3, 6.2], [0.3, 1.2], [0.2, 0.4], [2.2, 2.2]],\n",
        "    columns=['value1', 'value2'])\n",
        "print(df)"
      ],
      "execution_count": 8,
      "outputs": [
        {
          "output_type": "stream",
          "text": [
            "   value1  value2\n",
            "0     3.8     3.8\n",
            "1     4.3     6.2\n",
            "2     0.3     1.2\n",
            "3     0.2     0.4\n",
            "4     2.2     2.2\n"
          ],
          "name": "stdout"
        }
      ]
    },
    {
      "cell_type": "code",
      "metadata": {
        "colab": {
          "base_uri": "https://localhost:8080/"
        },
        "id": "SM4n9VvXfCgx",
        "outputId": "928a46db-64b0-470f-ba62-f2a9774e9063"
      },
      "source": [
        "df['similarity'] = df['value1'] / df['value2'] \n",
        "df.loc[df['similarity'] > 1, 'similarity'] = 1 / df['similarity'] \n",
        "df['similarity'] *= 100\n",
        "print(df)"
      ],
      "execution_count": 9,
      "outputs": [
        {
          "output_type": "stream",
          "text": [
            "   value1  value2  similarity\n",
            "0     3.8     3.8  100.000000\n",
            "1     4.3     6.2   69.354839\n",
            "2     0.3     1.2   25.000000\n",
            "3     0.2     0.4   50.000000\n",
            "4     2.2     2.2  100.000000\n"
          ],
          "name": "stdout"
        }
      ]
    }
  ]
}